{
 "cells": [
  {
   "cell_type": "code",
   "execution_count": 1,
   "metadata": {},
   "outputs": [],
   "source": [
    "from collections import defaultdict\n",
    "import os\n",
    "\n",
    "import base64\n",
    "from openai import OpenAI\n",
    "from PIL import Image, UnidentifiedImageError\n",
    "import pytesseract\n",
    "import tqdm"
   ]
  },
  {
   "cell_type": "code",
   "execution_count": 2,
   "metadata": {},
   "outputs": [],
   "source": [
    "data_dir = \"./data\"\n",
    "input_dir = f\"{data_dir}\"\n",
    "output_dir = f\"{data_dir}\""
   ]
  },
  {
   "cell_type": "code",
   "execution_count": null,
   "metadata": {},
   "outputs": [],
   "source": [
    "# Load the files and see how many we have of each type\n",
    "filenames = defaultdict(list)\n",
    "\n",
    "for fn in os.listdir(input_dir):\n",
    "\n",
    "    fp = f\"{input_dir}/{fn}\"\n",
    "    try:\n",
    "        img = Image.open(fp)\n",
    "        ext = img.format.lower()\n",
    "\n",
    "        # Convert any mpos to jpegs\n",
    "        if ext == \"mpo\":\n",
    "            img.save(fp, \"jpeg\")\n",
    "\n",
    "    except UnidentifiedImageError:\n",
    "        ext = os.path.splitext(fn)[1][1:]\n",
    "\n",
    "    filenames[ext].append(fn)\n",
    "\n",
    "print({k: len(v) for k, v in filenames.items()})"
   ]
  },
  {
   "cell_type": "code",
   "execution_count": 4,
   "metadata": {},
   "outputs": [],
   "source": [
    "# Create the openai client\n",
    "client = OpenAI(\n",
    "    api_key=\"API_KEY_HERE\"\n",
    ")"
   ]
  },
  {
   "cell_type": "code",
   "execution_count": null,
   "metadata": {},
   "outputs": [],
   "source": [
    "# Process the images\n",
    "for i, fn in enumerate(tqdm.tqdm(filenames[\"jpeg\"])):\n",
    "\n",
    "    # Get the string from the image\n",
    "    img = Image.open(f\"{input_dir}/{fn}\")\n",
    "    raw_str = pytesseract.image_to_string(img)\n",
    "\n",
    "    # Unscramble the string\n",
    "    completion = client.chat.completions.create(\n",
    "        model=\"gpt-4o-mini\",\n",
    "        store=True,\n",
    "        messages=[\n",
    "            {\n",
    "                \"role\": \"user\",\n",
    "                \"content\": f\"Please unscramble the following text, which contains a recipe. Output the result as plain text. Please don't say anything other than giving the output: {raw_str}\",\n",
    "            }\n",
    "        ],\n",
    "    )\n",
    "    parsed_str = completion.choices[0].message.content\n",
    "\n",
    "    # Save the result\n",
    "    fp = f\"{output_dir}/{os.path.splitext(fn)[0]}.docx\"\n",
    "    with open(fp, \"w\") as f:\n",
    "        f.write(parsed_str)"
   ]
  },
  {
   "cell_type": "code",
   "execution_count": null,
   "metadata": {},
   "outputs": [],
   "source": [
    "# Process the html files\n",
    "for i, fn in enumerate(tqdm.tqdm(filenames[\"html\"])):\n",
    "\n",
    "    # Get the string from the image\n",
    "    fp = f\"{input_dir}/{fn}\"\n",
    "    with open(fp, \"r\") as f:\n",
    "        raw_str = f.read()\n",
    "\n",
    "    # Unscramble the string\n",
    "    completion = client.chat.completions.create(\n",
    "        model=\"gpt-4o-mini\",\n",
    "        store=True,\n",
    "        messages=[\n",
    "            {\n",
    "                \"role\": \"user\",\n",
    "                \"content\": f\"Parse the following html for a recipe, and output the result as plain text. Please don't say anything other than giving the output: {raw_str}\",\n",
    "            }\n",
    "        ],\n",
    "    )\n",
    "    parsed_str = completion.choices[0].message.content\n",
    "\n",
    "    # Save the result\n",
    "    fp = f\"{output_dir}/{os.path.splitext(fn)[0]}.docx\"\n",
    "    with open(fp, \"w\") as f:\n",
    "        f.write(parsed_str)"
   ]
  },
  {
   "cell_type": "code",
   "execution_count": null,
   "metadata": {},
   "outputs": [],
   "source": []
  }
 ],
 "metadata": {
  "kernelspec": {
   "display_name": "general",
   "language": "python",
   "name": "python3"
  },
  "language_info": {
   "codemirror_mode": {
    "name": "ipython",
    "version": 3
   },
   "file_extension": ".py",
   "mimetype": "text/x-python",
   "name": "python",
   "nbconvert_exporter": "python",
   "pygments_lexer": "ipython3",
   "version": "3.10.13"
  }
 },
 "nbformat": 4,
 "nbformat_minor": 2
}
